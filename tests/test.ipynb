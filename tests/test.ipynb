{
 "cells": [
  {
   "metadata": {
    "ExecuteTime": {
     "end_time": "2024-10-06T11:47:47.145249Z",
     "start_time": "2024-10-06T11:47:44.480284Z"
    }
   },
   "cell_type": "code",
   "source": "from cag.vector_candidates.vc import VectorCandidates",
   "id": "19be92ae10bd3afc",
   "outputs": [],
   "execution_count": 1
  },
  {
   "metadata": {
    "ExecuteTime": {
     "end_time": "2024-10-06T11:47:50.662515Z",
     "start_time": "2024-10-06T11:47:47.145249Z"
    }
   },
   "cell_type": "code",
   "source": [
    "import json\n",
    "\n",
    "with open('CRSB-Embeddings-MPNET-New.json', 'r') as f:\n",
    "    dataset = json.load(f)\n",
    "    \n",
    "    "
   ],
   "id": "5e624fd9f5a407d4",
   "outputs": [],
   "execution_count": 2
  },
  {
   "metadata": {
    "ExecuteTime": {
     "end_time": "2024-10-06T11:47:50.670431Z",
     "start_time": "2024-10-06T11:47:50.662515Z"
    }
   },
   "cell_type": "code",
   "source": "import time",
   "id": "fec719312343787b",
   "outputs": [],
   "execution_count": 3
  },
  {
   "metadata": {
    "ExecuteTime": {
     "end_time": "2024-10-06T11:47:55.068085Z",
     "start_time": "2024-10-06T11:47:50.670431Z"
    }
   },
   "cell_type": "code",
   "source": [
    "import numpy as np\n",
    "\n",
    "whole_p = []\n",
    "whole_n = []\n",
    "\n",
    "a = time.time()\n",
    "for field, data in dataset.items():\n",
    "    \n",
    "    c = np.array([data['contents']])\n",
    "    \n",
    "    for field2, data2 in dataset.items():\n",
    "        \n",
    "        \n",
    "        if field != field2 :\n",
    "             \n",
    "            q = np.array([data2['questions']])    \n",
    "            model = VectorCandidates(c, q)\n",
    "            sims = model.internal_similarities()\n",
    "            whole_n.append(sims)\n",
    "            \n",
    "        elif field == field2 :\n",
    "            q = np.array([data2['questions']])    \n",
    "            model = VectorCandidates(c, q)\n",
    "            sims = model.internal_similarities()\n",
    "            whole_p.append(sims)\n",
    "        \n",
    "    \n",
    "print(time.time() - a)"
   ],
   "id": "2e14e3e1e6165d6d",
   "outputs": [
    {
     "name": "stdout",
     "output_type": "stream",
     "text": [
      "4.386195659637451\n"
     ]
    }
   ],
   "execution_count": 4
  },
  {
   "metadata": {
    "ExecuteTime": {
     "end_time": "2024-10-06T11:47:55.074402Z",
     "start_time": "2024-10-06T11:47:55.068085Z"
    }
   },
   "cell_type": "code",
   "source": "print(type(whole_p[0]))",
   "id": "f09bc7307ebc4cd9",
   "outputs": [
    {
     "name": "stdout",
     "output_type": "stream",
     "text": [
      "<class 'jaxlib.xla_extension.ArrayImpl'>\n"
     ]
    }
   ],
   "execution_count": 5
  },
  {
   "metadata": {
    "ExecuteTime": {
     "end_time": "2024-10-06T11:48:02.206733Z",
     "start_time": "2024-10-06T11:48:02.182364Z"
    }
   },
   "cell_type": "code",
   "source": [
    "n = np.array(whole_n)\n",
    "p = np.array(whole_p)\n",
    "\n",
    "print(n.shape)\n",
    "\n",
    "print(f'N min {np.min(n)}')\n",
    "print(f'N max {np.max(n)}')\n",
    "print(f'P min {np.min(p)}')\n",
    "print(f'P max {np.max(p)}')\n",
    "print(f'N mean {n.mean()}')\n",
    "print(f'P mean {p.mean()}')\n",
    "print(f'N median {np.median(n)}')\n",
    "print(f'P median {np.median(p)}')\n",
    "print(f'N std {np.std(n)}')\n",
    "print(f'P std {np.std(p)}')\n",
    "print(f'N quartiles {np.quantile(n, [0,0.25,0.5,0.75,1])}')\n",
    "print(f'P quartiles {np.quantile(p, [0,0.25,0.5,0.75,1])}')\n",
    "print(f'N percentiles {np.percentile(n, [0, 1,5, 60 , 99, 100])}')\n",
    "print(f'P percentiles {np.percentile(p, [0, 1, 5, 60 , 99 ,100])}')"
   ],
   "id": "4c3659c7241453cc",
   "outputs": [
    {
     "name": "stdout",
     "output_type": "stream",
     "text": [
      "(272, 1, 100, 3)\n",
      "N min -0.19332824647426605\n",
      "N max 0.6549559235572815\n",
      "P min 0.11099017411470413\n",
      "P max 0.912169337272644\n",
      "N mean 0.04706418514251709\n",
      "P mean 0.7056121826171875\n",
      "N median 0.03935752063989639\n",
      "P median 0.7164769172668457\n",
      "N std 0.06977473944425583\n",
      "P std 0.08496236056089401\n",
      "N quartiles [-0.19332825 -0.00069836  0.03935752  0.08672389  0.65495592]\n",
      "P quartiles [0.11099017 0.66258678 0.71647692 0.76296145 0.91216934]\n",
      "N percentiles [-0.19332825 -0.08667666 -0.05261027  0.05609579  0.24995511  0.65495592]\n",
      "P percentiles [0.11099017 0.43621484 0.55419253 0.73478997 0.86014192 0.91216934]\n"
     ]
    }
   ],
   "execution_count": 6
  },
  {
   "metadata": {
    "ExecuteTime": {
     "end_time": "2024-10-06T11:48:51.525217Z",
     "start_time": "2024-10-06T11:48:51.505856Z"
    }
   },
   "cell_type": "code",
   "source": [
    "p1 = np.percentile(p, 1)\n",
    "n99 = np.percentile(n, 99)"
   ],
   "id": "c7a76e46ab6f15b5",
   "outputs": [],
   "execution_count": 8
  },
  {
   "metadata": {},
   "cell_type": "code",
   "outputs": [],
   "execution_count": null,
   "source": "",
   "id": "1457bfd754b6a528"
  },
  {
   "metadata": {
    "ExecuteTime": {
     "end_time": "2024-10-06T11:51:55.808481Z",
     "start_time": "2024-10-06T11:51:55.797393Z"
    }
   },
   "cell_type": "code",
   "source": [
    "# Number N\n",
    "N = p1 - (p1-n99)/2\n",
    "\n",
    "# Calculate the percentage of elements greater than N\n",
    "percentage = np.sum(p > N) / p.size * 100"
   ],
   "id": "18d7661b207c918b",
   "outputs": [],
   "execution_count": 21
  },
  {
   "metadata": {
    "ExecuteTime": {
     "end_time": "2024-10-06T11:51:56.499644Z",
     "start_time": "2024-10-06T11:51:56.487683Z"
    }
   },
   "cell_type": "code",
   "source": "print(percentage)",
   "id": "8f80d31faa8ac0f7",
   "outputs": [
    {
     "name": "stdout",
     "output_type": "stream",
     "text": [
      "99.76470588235294\n"
     ]
    }
   ],
   "execution_count": 22
  },
  {
   "metadata": {},
   "cell_type": "code",
   "outputs": [],
   "execution_count": null,
   "source": "",
   "id": "ef18438e18c59ae5"
  }
 ],
 "metadata": {
  "kernelspec": {
   "display_name": "Python 3",
   "language": "python",
   "name": "python3"
  },
  "language_info": {
   "codemirror_mode": {
    "name": "ipython",
    "version": 2
   },
   "file_extension": ".py",
   "mimetype": "text/x-python",
   "name": "python",
   "nbconvert_exporter": "python",
   "pygments_lexer": "ipython2",
   "version": "2.7.6"
  }
 },
 "nbformat": 4,
 "nbformat_minor": 5
}
