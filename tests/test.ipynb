{
 "cells": [
  {
   "metadata": {
    "ExecuteTime": {
     "end_time": "2024-09-29T09:34:23.831369Z",
     "start_time": "2024-09-29T09:34:22.142103Z"
    }
   },
   "cell_type": "code",
   "source": "from cag.vector_candidates.vc import VectorCandidates",
   "id": "19be92ae10bd3afc",
   "outputs": [],
   "execution_count": 1
  },
  {
   "metadata": {
    "ExecuteTime": {
     "end_time": "2024-09-29T09:34:37.475652Z",
     "start_time": "2024-09-29T09:34:29.034826Z"
    }
   },
   "cell_type": "code",
   "source": [
    "import json\n",
    "\n",
    "with open('D:Datasets\\\\CRSB-Embeddings-New.json', 'r') as f:\n",
    "    dataset = json.load(f)\n",
    "    "
   ],
   "id": "5e624fd9f5a407d4",
   "outputs": [],
   "execution_count": 2
  },
  {
   "metadata": {
    "ExecuteTime": {
     "end_time": "2024-09-29T09:34:38.324559Z",
     "start_time": "2024-09-29T09:34:38.311429Z"
    }
   },
   "cell_type": "code",
   "source": "print(dataset.keys())",
   "id": "908610624c6b979c",
   "outputs": [
    {
     "name": "stdout",
     "output_type": "stream",
     "text": [
      "dict_keys(['1990_style', 'amazon_rainforest', 'American-mexican war', 'criminal_law', 'cubism', 'formula_one', 'friends_series', 'impact_of_ukraine', 'machine_learning', 'medieval_architecture', 'noise_cancelling', 'persian_meals', 'samurai', 'sleeping_pills', 'stem_cells', 'tcp_ip', 'vault_gymnastics'])\n"
     ]
    }
   ],
   "execution_count": 3
  },
  {
   "metadata": {
    "ExecuteTime": {
     "end_time": "2024-09-29T09:36:14.591425Z",
     "start_time": "2024-09-29T09:36:14.581907Z"
    }
   },
   "cell_type": "code",
   "source": "contexts = dataset['amazon_rainforest']['contents']",
   "id": "7d60c5d57fee9331",
   "outputs": [],
   "execution_count": 29
  },
  {
   "metadata": {
    "ExecuteTime": {
     "end_time": "2024-09-29T09:36:29.562591Z",
     "start_time": "2024-09-29T09:36:29.557339Z"
    }
   },
   "cell_type": "code",
   "source": "questions = dataset['cubism']['questions']",
   "id": "c22815190f16af83",
   "outputs": [],
   "execution_count": 37
  },
  {
   "metadata": {
    "ExecuteTime": {
     "end_time": "2024-09-29T09:36:31.204162Z",
     "start_time": "2024-09-29T09:36:31.137530Z"
    }
   },
   "cell_type": "code",
   "source": [
    "import numpy as np\n",
    "\n",
    "contexts, questions = np.array(contexts), np.array(questions)"
   ],
   "id": "b7cf45e72bf06b32",
   "outputs": [],
   "execution_count": 38
  },
  {
   "metadata": {
    "ExecuteTime": {
     "end_time": "2024-09-29T09:36:31.944106Z",
     "start_time": "2024-09-29T09:36:31.939656Z"
    }
   },
   "cell_type": "code",
   "source": [
    "print(contexts.shape)\n",
    "print(questions.shape)\n"
   ],
   "id": "92045aa059dfa837",
   "outputs": [
    {
     "name": "stdout",
     "output_type": "stream",
     "text": [
      "(100, 5120)\n",
      "(100, 3, 5120)\n"
     ]
    }
   ],
   "execution_count": 39
  },
  {
   "metadata": {
    "ExecuteTime": {
     "end_time": "2024-09-29T09:36:33.063812Z",
     "start_time": "2024-09-29T09:36:33.056236Z"
    }
   },
   "cell_type": "code",
   "source": "model = VectorCandidates(contexts, questions)",
   "id": "3b67f51c8f9ee583",
   "outputs": [],
   "execution_count": 40
  },
  {
   "metadata": {
    "ExecuteTime": {
     "end_time": "2024-09-29T09:36:33.697846Z",
     "start_time": "2024-09-29T09:36:33.684650Z"
    }
   },
   "cell_type": "code",
   "source": "vs = model.internal_euclidean()",
   "id": "9e4ef3ad6512bb1f",
   "outputs": [],
   "execution_count": 41
  },
  {
   "metadata": {
    "ExecuteTime": {
     "end_time": "2024-09-29T09:36:34.325600Z",
     "start_time": "2024-09-29T09:36:34.313034Z"
    }
   },
   "cell_type": "code",
   "source": "vs.shape",
   "id": "9ee50890743f951e",
   "outputs": [
    {
     "data": {
      "text/plain": [
       "(100, 3)"
      ]
     },
     "execution_count": 42,
     "metadata": {},
     "output_type": "execute_result"
    }
   ],
   "execution_count": 42
  },
  {
   "metadata": {
    "ExecuteTime": {
     "end_time": "2024-09-29T09:36:35.201185Z",
     "start_time": "2024-09-29T09:36:35.194321Z"
    }
   },
   "cell_type": "code",
   "source": "vs[3]",
   "id": "826712f8d81480f8",
   "outputs": [
    {
     "data": {
      "text/plain": [
       "Array([0.626091  , 0.59782755, 0.6173576 ], dtype=float32)"
      ]
     },
     "execution_count": 43,
     "metadata": {},
     "output_type": "execute_result"
    }
   ],
   "execution_count": 43
  },
  {
   "metadata": {
    "ExecuteTime": {
     "end_time": "2024-09-29T09:36:54.581603Z",
     "start_time": "2024-09-29T09:36:53.350634Z"
    }
   },
   "cell_type": "code",
   "source": "from langchain_ollama import OllamaEmbeddings",
   "id": "c7128da23061429b",
   "outputs": [],
   "execution_count": 44
  },
  {
   "metadata": {
    "ExecuteTime": {
     "end_time": "2024-09-29T09:37:03.615847Z",
     "start_time": "2024-09-29T09:37:03.070447Z"
    }
   },
   "cell_type": "code",
   "source": "model = OllamaEmbeddings(model = 'phi3:14b')",
   "id": "e70884e5ab7134b9",
   "outputs": [],
   "execution_count": 45
  },
  {
   "metadata": {
    "ExecuteTime": {
     "end_time": "2024-09-28T17:50:10.933652Z",
     "start_time": "2024-09-28T17:50:07.426527Z"
    }
   },
   "cell_type": "code",
   "source": "v1 = model.embed_query('')",
   "id": "a27267245600ff",
   "outputs": [],
   "execution_count": 19
  },
  {
   "metadata": {
    "ExecuteTime": {
     "end_time": "2024-09-28T17:50:13.891829Z",
     "start_time": "2024-09-28T17:50:11.880060Z"
    }
   },
   "cell_type": "code",
   "source": "v2 = model.embed_query('hello')",
   "id": "5833225d2edee6b5",
   "outputs": [],
   "execution_count": 20
  },
  {
   "metadata": {
    "ExecuteTime": {
     "end_time": "2024-09-28T17:50:14.954064Z",
     "start_time": "2024-09-28T17:50:14.947173Z"
    }
   },
   "cell_type": "code",
   "source": [
    "import numpy as np\n",
    "\n",
    "v1, v2 = np.array(v1), np.array(v2)\n",
    "\n",
    "eucildian_distance = np.linalg.norm(v1 - v2)\n",
    "print(eucildian_distance)"
   ],
   "id": "e92ed144380deded",
   "outputs": [
    {
     "name": "stdout",
     "output_type": "stream",
     "text": [
      "0.3298659630160314\n"
     ]
    }
   ],
   "execution_count": 21
  },
  {
   "metadata": {
    "ExecuteTime": {
     "end_time": "2024-09-28T12:13:29.471648Z",
     "start_time": "2024-09-28T12:13:29.464237Z"
    }
   },
   "cell_type": "code",
   "source": [
    "from numpy.linalg import norm\n",
    "\n",
    "cosine = np.dot(v1, v2)/(norm(v1) * norm(v2))"
   ],
   "id": "3f46970f037d0095",
   "outputs": [],
   "execution_count": 45
  },
  {
   "metadata": {
    "ExecuteTime": {
     "end_time": "2024-09-28T12:13:29.477829Z",
     "start_time": "2024-09-28T12:13:29.471648Z"
    }
   },
   "cell_type": "code",
   "source": "cosine",
   "id": "914a6066d6d2d7a5",
   "outputs": [
    {
     "data": {
      "text/plain": [
       "0.8758123496542696"
      ]
     },
     "execution_count": 46,
     "metadata": {},
     "output_type": "execute_result"
    }
   ],
   "execution_count": 46
  },
  {
   "metadata": {},
   "cell_type": "code",
   "outputs": [],
   "execution_count": null,
   "source": "",
   "id": "2e14e3e1e6165d6d"
  }
 ],
 "metadata": {
  "kernelspec": {
   "display_name": "Python 3",
   "language": "python",
   "name": "python3"
  },
  "language_info": {
   "codemirror_mode": {
    "name": "ipython",
    "version": 2
   },
   "file_extension": ".py",
   "mimetype": "text/x-python",
   "name": "python",
   "nbconvert_exporter": "python",
   "pygments_lexer": "ipython2",
   "version": "2.7.6"
  }
 },
 "nbformat": 4,
 "nbformat_minor": 5
}
