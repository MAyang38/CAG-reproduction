{
 "cells": [
  {
   "cell_type": "code",
   "id": "initial_id",
   "metadata": {
    "collapsed": true,
    "ExecuteTime": {
     "end_time": "2024-09-18T16:43:56.668901Z",
     "start_time": "2024-09-18T16:43:56.658226Z"
    }
   },
   "source": "from cag.embedding.ollama.embeddings import OllamaEmbeddings",
   "outputs": [],
   "execution_count": 5
  },
  {
   "metadata": {
    "ExecuteTime": {
     "end_time": "2024-09-18T16:42:24.806361Z",
     "start_time": "2024-09-18T16:42:24.766710Z"
    }
   },
   "cell_type": "code",
   "source": "embedding = OllamaEmbeddings(model= 'gemma2')",
   "id": "618ae1734866e36d",
   "outputs": [
    {
     "ename": "RecursionError",
     "evalue": "maximum recursion depth exceeded",
     "output_type": "error",
     "traceback": [
      "\u001B[1;31m---------------------------------------------------------------------------\u001B[0m",
      "\u001B[1;31mRecursionError\u001B[0m                            Traceback (most recent call last)",
      "Cell \u001B[1;32mIn[3], line 1\u001B[0m\n\u001B[1;32m----> 1\u001B[0m embedding \u001B[38;5;241m=\u001B[39m \u001B[43mOllamaEmbeddings\u001B[49m\u001B[43m(\u001B[49m\u001B[43mmodel\u001B[49m\u001B[38;5;241;43m=\u001B[39;49m\u001B[43m \u001B[49m\u001B[38;5;124;43m'\u001B[39;49m\u001B[38;5;124;43mgemma2\u001B[39;49m\u001B[38;5;124;43m'\u001B[39;49m\u001B[43m)\u001B[49m\n",
      "File \u001B[1;32mF:\\Projects\\cag\\cag\\embedding\\ollama\\embeddings.py:5\u001B[0m, in \u001B[0;36mOllamaEmbeddings.__init__\u001B[1;34m(self, model)\u001B[0m\n\u001B[0;32m      4\u001B[0m \u001B[38;5;28;01mdef\u001B[39;00m \u001B[38;5;21m__init__\u001B[39m(\u001B[38;5;28mself\u001B[39m, model : \u001B[38;5;28mstr\u001B[39m):\n\u001B[1;32m----> 5\u001B[0m     \u001B[38;5;28mself\u001B[39m\u001B[38;5;241m.\u001B[39membeddings \u001B[38;5;241m=\u001B[39m \u001B[43mOllamaEmbeddings\u001B[49m\u001B[43m(\u001B[49m\u001B[43mmodel\u001B[49m\u001B[43m \u001B[49m\u001B[38;5;241;43m=\u001B[39;49m\u001B[43m \u001B[49m\u001B[43mmodel\u001B[49m\u001B[43m)\u001B[49m\n\u001B[0;32m      6\u001B[0m     \u001B[38;5;28mself\u001B[39m\u001B[38;5;241m.\u001B[39mmodel \u001B[38;5;241m=\u001B[39m model\n\u001B[0;32m      7\u001B[0m     \u001B[38;5;28mself\u001B[39m\u001B[38;5;241m.\u001B[39membedding_shape \u001B[38;5;241m=\u001B[39m \u001B[38;5;28;01mNone\u001B[39;00m\n",
      "File \u001B[1;32mF:\\Projects\\cag\\cag\\embedding\\ollama\\embeddings.py:5\u001B[0m, in \u001B[0;36mOllamaEmbeddings.__init__\u001B[1;34m(self, model)\u001B[0m\n\u001B[0;32m      4\u001B[0m \u001B[38;5;28;01mdef\u001B[39;00m \u001B[38;5;21m__init__\u001B[39m(\u001B[38;5;28mself\u001B[39m, model : \u001B[38;5;28mstr\u001B[39m):\n\u001B[1;32m----> 5\u001B[0m     \u001B[38;5;28mself\u001B[39m\u001B[38;5;241m.\u001B[39membeddings \u001B[38;5;241m=\u001B[39m \u001B[43mOllamaEmbeddings\u001B[49m\u001B[43m(\u001B[49m\u001B[43mmodel\u001B[49m\u001B[43m \u001B[49m\u001B[38;5;241;43m=\u001B[39;49m\u001B[43m \u001B[49m\u001B[43mmodel\u001B[49m\u001B[43m)\u001B[49m\n\u001B[0;32m      6\u001B[0m     \u001B[38;5;28mself\u001B[39m\u001B[38;5;241m.\u001B[39mmodel \u001B[38;5;241m=\u001B[39m model\n\u001B[0;32m      7\u001B[0m     \u001B[38;5;28mself\u001B[39m\u001B[38;5;241m.\u001B[39membedding_shape \u001B[38;5;241m=\u001B[39m \u001B[38;5;28;01mNone\u001B[39;00m\n",
      "    \u001B[1;31m[... skipping similar frames: OllamaEmbeddings.__init__ at line 5 (991 times)]\u001B[0m\n",
      "File \u001B[1;32mF:\\Projects\\cag\\cag\\embedding\\ollama\\embeddings.py:5\u001B[0m, in \u001B[0;36mOllamaEmbeddings.__init__\u001B[1;34m(self, model)\u001B[0m\n\u001B[0;32m      4\u001B[0m \u001B[38;5;28;01mdef\u001B[39;00m \u001B[38;5;21m__init__\u001B[39m(\u001B[38;5;28mself\u001B[39m, model : \u001B[38;5;28mstr\u001B[39m):\n\u001B[1;32m----> 5\u001B[0m     \u001B[38;5;28mself\u001B[39m\u001B[38;5;241m.\u001B[39membeddings \u001B[38;5;241m=\u001B[39m \u001B[43mOllamaEmbeddings\u001B[49m\u001B[43m(\u001B[49m\u001B[43mmodel\u001B[49m\u001B[43m \u001B[49m\u001B[38;5;241;43m=\u001B[39;49m\u001B[43m \u001B[49m\u001B[43mmodel\u001B[49m\u001B[43m)\u001B[49m\n\u001B[0;32m      6\u001B[0m     \u001B[38;5;28mself\u001B[39m\u001B[38;5;241m.\u001B[39mmodel \u001B[38;5;241m=\u001B[39m model\n\u001B[0;32m      7\u001B[0m     \u001B[38;5;28mself\u001B[39m\u001B[38;5;241m.\u001B[39membedding_shape \u001B[38;5;241m=\u001B[39m \u001B[38;5;28;01mNone\u001B[39;00m\n",
      "\u001B[1;31mRecursionError\u001B[0m: maximum recursion depth exceeded"
     ]
    }
   ],
   "execution_count": 3
  },
  {
   "metadata": {
    "ExecuteTime": {
     "end_time": "2024-09-18T16:22:39.169391Z",
     "start_time": "2024-09-18T16:22:28.321444Z"
    }
   },
   "cell_type": "code",
   "source": "len(embedding.embed_query('hello'))",
   "id": "b642c8023d12b5f7",
   "outputs": [
    {
     "data": {
      "text/plain": [
       "3584"
      ]
     },
     "execution_count": 80,
     "metadata": {},
     "output_type": "execute_result"
    }
   ],
   "execution_count": 80
  },
  {
   "metadata": {
    "ExecuteTime": {
     "end_time": "2024-09-18T16:25:38.362028Z",
     "start_time": "2024-09-18T16:25:33.111781Z"
    }
   },
   "cell_type": "code",
   "source": [
    "import numpy as np\n",
    "from numpy.linalg import norm\n",
    "\n",
    "v1 = np.array(embedding.embed_query('Planck’s law describes the spectral distribution of radiation emitted by a blackbody in thermal equilibrium. Max Planck derived this law in 1900 by assuming that energy is quantized, a groundbreaking idea at the time. Planck’s law was one of the first signs that classical physics was incomplete and set the stage for the development of quantum theory.'))\n",
    "\n",
    "\n",
    "v2 = np.array(embedding.embed_query(''))"
   ],
   "id": "9532f1adbf0941d1",
   "outputs": [],
   "execution_count": 99
  },
  {
   "metadata": {
    "ExecuteTime": {
     "end_time": "2024-09-18T16:25:39.151902Z",
     "start_time": "2024-09-18T16:25:39.145021Z"
    }
   },
   "cell_type": "code",
   "source": "v1.shape",
   "id": "14e19c17a7340fec",
   "outputs": [
    {
     "data": {
      "text/plain": [
       "(3584,)"
      ]
     },
     "execution_count": 100,
     "metadata": {},
     "output_type": "execute_result"
    }
   ],
   "execution_count": 100
  },
  {
   "metadata": {
    "ExecuteTime": {
     "end_time": "2024-09-18T16:25:40.274549Z",
     "start_time": "2024-09-18T16:25:40.268499Z"
    }
   },
   "cell_type": "code",
   "source": "np.dot(v1,v2)/(norm(v1)*norm(v2))",
   "id": "3b26fbd0c61135b9",
   "outputs": [
    {
     "data": {
      "text/plain": [
       "0.6245305319061684"
      ]
     },
     "execution_count": 101,
     "metadata": {},
     "output_type": "execute_result"
    }
   ],
   "execution_count": 101
  },
  {
   "metadata": {
    "ExecuteTime": {
     "end_time": "2024-09-18T16:21:17.722457Z",
     "start_time": "2024-09-18T16:21:17.704701Z"
    }
   },
   "cell_type": "code",
   "source": [
    "from math import cos, pi\n",
    "\n",
    "print(cos(pi/4))"
   ],
   "id": "e6a45ff0dc1a03b2",
   "outputs": [
    {
     "name": "stdout",
     "output_type": "stream",
     "text": [
      "0.7071067811865476\n"
     ]
    }
   ],
   "execution_count": 75
  },
  {
   "metadata": {},
   "cell_type": "code",
   "outputs": [],
   "execution_count": null,
   "source": "",
   "id": "5de6112a8a4a31f6"
  }
 ],
 "metadata": {
  "kernelspec": {
   "display_name": "Python 3",
   "language": "python",
   "name": "python3"
  },
  "language_info": {
   "codemirror_mode": {
    "name": "ipython",
    "version": 2
   },
   "file_extension": ".py",
   "mimetype": "text/x-python",
   "name": "python",
   "nbconvert_exporter": "python",
   "pygments_lexer": "ipython2",
   "version": "2.7.6"
  }
 },
 "nbformat": 4,
 "nbformat_minor": 5
}
