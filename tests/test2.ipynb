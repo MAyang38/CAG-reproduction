{
 "cells": [
  {
   "cell_type": "code",
   "id": "initial_id",
   "metadata": {
    "collapsed": true,
    "ExecuteTime": {
     "end_time": "2024-10-11T14:31:09.632301Z",
     "start_time": "2024-10-11T14:31:07.999243Z"
    }
   },
   "source": "from cag.vector_candidates.vc import VectorCandidates",
   "outputs": [],
   "execution_count": 1
  },
  {
   "metadata": {
    "ExecuteTime": {
     "end_time": "2024-10-11T14:31:13.993445Z",
     "start_time": "2024-10-11T14:31:11.314458Z"
    }
   },
   "cell_type": "code",
   "source": [
    "import json\n",
    "\n",
    "with open('CRSB-Embeddings-MPNET-New.json', 'r') as f:\n",
    "    dataset = json.load(f)\n",
    "    \n",
    "    "
   ],
   "id": "ee6a274adabd61a9",
   "outputs": [],
   "execution_count": 2
  },
  {
   "metadata": {
    "ExecuteTime": {
     "end_time": "2024-10-11T14:32:16.037381Z",
     "start_time": "2024-10-11T14:32:16.022704Z"
    }
   },
   "cell_type": "code",
   "source": [
    "contexts = dataset['amazon_rainforest']['contents']\n",
    "query = dataset['amazon_rainforest']['questions'][0][0]"
   ],
   "id": "677777f033d7e5ec",
   "outputs": [],
   "execution_count": 4
  },
  {
   "metadata": {
    "ExecuteTime": {
     "end_time": "2024-10-11T14:32:34.442432Z",
     "start_time": "2024-10-11T14:32:33.912572Z"
    }
   },
   "cell_type": "code",
   "source": [
    "import jax.numpy as jnp\n",
    "\n",
    "contexts, query = jnp.asarray(contexts), jnp.asarray(query)"
   ],
   "id": "3a0b41de99eebff6",
   "outputs": [],
   "execution_count": 5
  },
  {
   "metadata": {
    "ExecuteTime": {
     "end_time": "2024-10-11T14:32:47.429213Z",
     "start_time": "2024-10-11T14:32:47.415393Z"
    }
   },
   "cell_type": "code",
   "source": [
    "print(jnp.shape(contexts))\n",
    "print(jnp.shape(query))"
   ],
   "id": "ccbd9cfb2ffa94f7",
   "outputs": [
    {
     "name": "stdout",
     "output_type": "stream",
     "text": [
      "(100, 768)\n",
      "(768,)\n"
     ]
    }
   ],
   "execution_count": 6
  },
  {
   "metadata": {
    "ExecuteTime": {
     "end_time": "2024-10-11T14:33:04.059838Z",
     "start_time": "2024-10-11T14:33:04.045959Z"
    }
   },
   "cell_type": "code",
   "source": "model = VectorCandidates(contexts, query)",
   "id": "8febac66135217d7",
   "outputs": [],
   "execution_count": 7
  },
  {
   "metadata": {
    "ExecuteTime": {
     "end_time": "2024-10-11T14:33:32.467168Z",
     "start_time": "2024-10-11T14:33:32.340049Z"
    }
   },
   "cell_type": "code",
   "source": "sims = model.get_query_similarities(query)",
   "id": "7074239ffe7e5c22",
   "outputs": [],
   "execution_count": 8
  },
  {
   "metadata": {
    "ExecuteTime": {
     "end_time": "2024-10-11T14:34:48.154965Z",
     "start_time": "2024-10-11T14:34:48.070060Z"
    }
   },
   "cell_type": "code",
   "source": "jnp.median(sims)",
   "id": "e2f103c0dcdfbad2",
   "outputs": [
    {
     "data": {
      "text/plain": [
       "Array(0.4414521, dtype=float32)"
      ]
     },
     "execution_count": 18,
     "metadata": {},
     "output_type": "execute_result"
    }
   ],
   "execution_count": 18
  },
  {
   "metadata": {},
   "cell_type": "code",
   "outputs": [],
   "execution_count": null,
   "source": "",
   "id": "d082ad54992b05df"
  }
 ],
 "metadata": {
  "kernelspec": {
   "display_name": "Python 3",
   "language": "python",
   "name": "python3"
  },
  "language_info": {
   "codemirror_mode": {
    "name": "ipython",
    "version": 2
   },
   "file_extension": ".py",
   "mimetype": "text/x-python",
   "name": "python",
   "nbconvert_exporter": "python",
   "pygments_lexer": "ipython2",
   "version": "2.7.6"
  }
 },
 "nbformat": 4,
 "nbformat_minor": 5
}
