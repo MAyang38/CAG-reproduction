{
 "cells": [
  {
   "cell_type": "code",
   "id": "initial_id",
   "metadata": {
    "collapsed": true,
    "jupyter": {
     "is_executing": true
    },
    "ExecuteTime": {
     "start_time": "2024-11-25T10:23:50.723677Z"
    }
   },
   "source": [
    "from cag.embeddings import SentenceTransformerEmbeddings\n",
    "from cag.models import ChatOllama\n",
    "\n",
    "embeddings_model = SentenceTransformerEmbeddings('sentence-transformers/all-mpnet-base-v2')\n",
    "model = ChatOllama(model = 'llama3.2', temprature = 0.01)"
   ],
   "outputs": [
    {
     "name": "stderr",
     "output_type": "stream",
     "text": [
      "C:\\Users\\Laptopkaran\\AppData\\Local\\Programs\\Python\\Python312\\Lib\\site-packages\\sentence_transformers\\cross_encoder\\CrossEncoder.py:11: TqdmExperimentalWarning: Using `tqdm.autonotebook.tqdm` in notebook mode. Use `tqdm.tqdm` instead to force console mode (e.g. in jupyter console)\n",
      "  from tqdm.autonotebook import tqdm, trange\n"
     ]
    },
    {
     "name": "stdout",
     "output_type": "stream",
     "text": [
      "WARNING:tensorflow:From C:\\Users\\Laptopkaran\\AppData\\Local\\Programs\\Python\\Python312\\Lib\\site-packages\\tf_keras\\src\\losses.py:2976: The name tf.losses.sparse_softmax_cross_entropy is deprecated. Please use tf.compat.v1.losses.sparse_softmax_cross_entropy instead.\n",
      "\n"
     ]
    }
   ],
   "execution_count": null
  },
  {
   "metadata": {
    "ExecuteTime": {
     "end_time": "2024-11-25T07:22:11.727317Z",
     "start_time": "2024-11-25T07:22:11.715600Z"
    }
   },
   "cell_type": "code",
   "source": [
    "import numpy as np\n",
    "\n",
    "def answer_relevancy(generated_answer, original_query):\n",
    "    \n",
    "    prompt = \"\"\"i will give you a answer , please generate three question which we can derive from that answer.\n",
    "    use this format for generation :  start the generation with \"---\" and end it with \"---\" too ; between the questions you should include \"---\" as well . like this format bellow : \n",
    "    \n",
    "    ---\n",
    "    Question number 1\n",
    "    ---\n",
    "    Question number 2 \n",
    "    ---\n",
    "    Question number 3\n",
    "    --- \n",
    "    \n",
    "    Here is the answer : \n",
    "    Answer : {answer}\"\"\"\n",
    "    \n",
    "    prompt = prompt.format(answer=generated_answer)\n",
    "    \n",
    "    \n",
    "    generated_questions = model.invoke(prompt).content\n",
    "\n",
    "    \n",
    "    generated_questions = [item for item in generated_questions.split('---') if len(item) > 7]\n",
    "\n",
    "    #embed the question\n",
    "    generated_questions = [embeddings_model.embed_query(question) for question in generated_questions]\n",
    "    \n",
    "    #embed the query\n",
    "    original_query = embeddings_model.embed_query(original_query)\n",
    "    \n",
    "    generated_questions, original_query = np.array(generated_questions), np.array(original_query)\n",
    "    \n",
    "    # Normalize vectors\n",
    "    vec1_norm = original_query / np.linalg.norm(original_query)\n",
    "    vec_list_norm = generated_questions / np.linalg.norm(generated_questions, axis=1, keepdims=True)\n",
    "\n",
    "    # Compute cosine similarity\n",
    "    cosine_sim = np.dot(vec_list_norm, vec1_norm)\n",
    "    \n",
    "    return np.mean(cosine_sim)\n",
    "    "
   ],
   "id": "fbd35b7c67f42147",
   "outputs": [],
   "execution_count": 47
  },
  {
   "metadata": {
    "ExecuteTime": {
     "end_time": "2024-11-25T07:43:17.275321Z",
     "start_time": "2024-11-25T07:43:17.260589Z"
    }
   },
   "cell_type": "code",
   "source": [
    "def context_relevancy(retrieved_context, original_query):\n",
    "    \n",
    "    prompt = \"\"\"this is a context relevancy test. for the given context and question , extract each sentence of the context and determine if that sentence can potentially be helpful to answer the question. for every sentence , describe the relevancy of that sentence and answer in YES or NO terms which that sentence can be helpful to answer the question or not. \n",
    "    \n",
    "    use this format : \n",
    "    \n",
    "    Sentence  : a simple description of relevancy to the question : YES or NO\n",
    "    \n",
    "    Here is Question \n",
    "    Question : {query}\n",
    "    \n",
    "    Here is the Context :\n",
    "    Context : {context}\"\"\"\n",
    "    \n",
    "    prompt = prompt.format(query = original_query, context = retrieved_context)\n",
    "    \n",
    "    output = model.invoke(prompt).content\n",
    "    \n",
    "    output = output.lower()\n",
    "    \n",
    "    score = output.count('yes') / (output.count('yes') + output.count('no'))\n",
    "    \n",
    "    return score"
   ],
   "id": "ec587f2a38f15257",
   "outputs": [],
   "execution_count": 55
  },
  {
   "metadata": {},
   "cell_type": "markdown",
   "source": "# Loading CRSB and SQUAD",
   "id": "994666f409da7cfc"
  },
  {
   "metadata": {
    "ExecuteTime": {
     "end_time": "2024-11-25T07:57:35.407755Z",
     "start_time": "2024-11-25T07:57:19.671150Z"
    }
   },
   "cell_type": "code",
   "source": [
    "import json \n",
    "import datasets\n",
    "\n",
    "with open('F:\\\\OneDrive\\\\Desktop\\\\Research\\\\Dataset\\\\CRSB-Texts.json', 'r') as f:\n",
    "    crsb = json.load(f)\n",
    "    \n",
    "squad = datasets.load_dataset('rajpurkar/squad')"
   ],
   "id": "9d4667cfacb07c5d",
   "outputs": [],
   "execution_count": 65
  },
  {
   "metadata": {
    "ExecuteTime": {
     "end_time": "2024-11-25T07:57:36.206113Z",
     "start_time": "2024-11-25T07:57:36.198496Z"
    }
   },
   "cell_type": "code",
   "source": "crsb = crsb['amazon_rainforest']\n",
   "id": "41c20e8357d3f460",
   "outputs": [],
   "execution_count": 66
  },
  {
   "metadata": {
    "ExecuteTime": {
     "end_time": "2024-11-25T07:57:37.020109Z",
     "start_time": "2024-11-25T07:57:36.960322Z"
    }
   },
   "cell_type": "code",
   "source": "squad = squad['validation'].shuffle()",
   "id": "33834b8a3fd4acf",
   "outputs": [],
   "execution_count": 67
  },
  {
   "metadata": {
    "ExecuteTime": {
     "end_time": "2024-11-25T07:58:28.335468Z",
     "start_time": "2024-11-25T07:58:28.309485Z"
    }
   },
   "cell_type": "code",
   "source": [
    "squad = squad[:100]\n",
    "\n",
    "#this makes squad a dict like object with keys and values , values are lists"
   ],
   "id": "5257223831face75",
   "outputs": [],
   "execution_count": 70
  },
  {
   "metadata": {
    "ExecuteTime": {
     "end_time": "2024-11-25T08:06:59.487251Z",
     "start_time": "2024-11-25T08:06:59.481673Z"
    }
   },
   "cell_type": "code",
   "source": [
    "print(crsb.keys())\n",
    "print(squad.keys())"
   ],
   "id": "cd97bcda60e083fb",
   "outputs": [
    {
     "name": "stdout",
     "output_type": "stream",
     "text": [
      "dict_keys(['contents', 'questions'])\n",
      "dict_keys(['id', 'title', 'context', 'question', 'answers'])\n"
     ]
    }
   ],
   "execution_count": 74
  },
  {
   "metadata": {
    "ExecuteTime": {
     "end_time": "2024-11-25T08:10:24.286061Z",
     "start_time": "2024-11-25T08:10:24.279037Z"
    }
   },
   "cell_type": "code",
   "source": [
    "print(len(crsb['contents']))\n",
    "print(len(squad['question']))"
   ],
   "id": "76e3730776c5f7b2",
   "outputs": [
    {
     "name": "stdout",
     "output_type": "stream",
     "text": [
      "100\n",
      "100\n"
     ]
    }
   ],
   "execution_count": 75
  },
  {
   "metadata": {
    "ExecuteTime": {
     "end_time": "2024-11-25T08:22:06.032555Z",
     "start_time": "2024-11-25T08:22:06.025879Z"
    }
   },
   "cell_type": "code",
   "source": [
    "contexts = crsb['contents']\n",
    "questions = squad['question']"
   ],
   "id": "7e96a024611d6bf4",
   "outputs": [],
   "execution_count": 79
  },
  {
   "metadata": {},
   "cell_type": "markdown",
   "source": "# RAG Evaluation on CRSB + SQUAD",
   "id": "b589f98c5e929ef"
  },
  {
   "metadata": {
    "ExecuteTime": {
     "end_time": "2024-11-25T08:23:45.868519Z",
     "start_time": "2024-11-25T08:23:37.251329Z"
    }
   },
   "cell_type": "code",
   "source": [
    "from langchain.vectorstores import FAISS\n",
    "\n",
    "retriever = FAISS.from_texts(texts=contexts,\n",
    "                             embedding= embeddings_model)"
   ],
   "id": "c3fdeb3ade1ba53f",
   "outputs": [],
   "execution_count": 80
  },
  {
   "metadata": {
    "ExecuteTime": {
     "end_time": "2024-11-25T09:57:11.131468Z",
     "start_time": "2024-11-25T08:35:12.188429Z"
    }
   },
   "cell_type": "code",
   "source": [
    "from time import time\n",
    "\n",
    "crs = []\n",
    "ars = []\n",
    "\n",
    "for i, question in enumerate(questions):\n",
    "    \n",
    "    start = time()\n",
    "    retrieved_context = retriever.similarity_search(query=question, k =1)\n",
    "    ar = answer_relevancy(retrieved_context, question)\n",
    "    cr = context_relevancy(retrieved_context, question)\n",
    "    \n",
    "    crs.append(cr)\n",
    "    ars.append(ar)\n",
    "    \n",
    "    end = time()\n",
    "    print(f'Question {i} processed in {end - start} seconds')\n",
    "    print(f'CR score: {cr}, AR score: {ar}')\n"
   ],
   "id": "fe32620f99354600",
   "outputs": [
    {
     "name": "stdout",
     "output_type": "stream",
     "text": [
      "Question 0 processed in 49.16196537017822 seconds\n",
      "CR score: 0.0, AR score: 0.1571698437275094\n",
      "Question 1 processed in 48.54631495475769 seconds\n",
      "CR score: 0.0, AR score: 0.29480998367364086\n",
      "Question 2 processed in 38.27165222167969 seconds\n",
      "CR score: 0.0, AR score: 0.33107373609736607\n",
      "Question 3 processed in 31.744757175445557 seconds\n",
      "CR score: 0.0, AR score: 0.28770980683478337\n",
      "Question 4 processed in 47.549818992614746 seconds\n",
      "CR score: 0.0, AR score: 0.11949658150158697\n",
      "Question 5 processed in 43.27785325050354 seconds\n",
      "CR score: 0.0, AR score: 0.11400199500216968\n",
      "Question 6 processed in 46.08327388763428 seconds\n",
      "CR score: 0.0, AR score: 0.09142471596089385\n",
      "Question 7 processed in 38.67910647392273 seconds\n",
      "CR score: 0.0, AR score: 0.3215760763718075\n",
      "Question 8 processed in 52.183584451675415 seconds\n",
      "CR score: 0.0, AR score: 0.17627196068181208\n",
      "Question 9 processed in 48.641218423843384 seconds\n",
      "CR score: 0.0, AR score: 0.1451801908734139\n",
      "Question 10 processed in 40.68730044364929 seconds\n",
      "CR score: 0.0, AR score: 0.22217983137338604\n",
      "Question 11 processed in 39.582762718200684 seconds\n",
      "CR score: 0.0, AR score: 0.33664037693494625\n",
      "Question 12 processed in 47.43584752082825 seconds\n",
      "CR score: 0.0, AR score: 0.3823648726626565\n",
      "Question 13 processed in 55.09644150733948 seconds\n",
      "CR score: 0.0, AR score: 0.18826852454555218\n",
      "Question 14 processed in 42.63379526138306 seconds\n",
      "CR score: 0.0, AR score: 0.07372909846749276\n",
      "Question 15 processed in 51.29218125343323 seconds\n",
      "CR score: 0.0, AR score: 0.22648144679526183\n",
      "Question 16 processed in 44.26942420005798 seconds\n",
      "CR score: 0.0, AR score: 0.11873972604314992\n",
      "Question 17 processed in 39.94635772705078 seconds\n",
      "CR score: 0.0, AR score: 0.14375487223450675\n",
      "Question 18 processed in 51.1029999256134 seconds\n",
      "CR score: 0.0, AR score: 0.18310924959262628\n",
      "Question 19 processed in 41.50669884681702 seconds\n",
      "CR score: 0.0, AR score: 0.18608929196664992\n",
      "Question 20 processed in 58.923004388809204 seconds\n",
      "CR score: 0.0, AR score: 0.06066695524346014\n",
      "Question 21 processed in 41.668917655944824 seconds\n",
      "CR score: 0.0, AR score: 0.16049287532334977\n",
      "Question 22 processed in 54.94270634651184 seconds\n",
      "CR score: 0.0, AR score: 0.4512998295110457\n",
      "Question 23 processed in 40.60072064399719 seconds\n",
      "CR score: 0.0, AR score: 0.23359374907966254\n",
      "Question 24 processed in 63.34740686416626 seconds\n",
      "CR score: 0.0, AR score: 0.15694293473489063\n",
      "Question 25 processed in 52.853981494903564 seconds\n",
      "CR score: 0.0, AR score: 0.18497517573702435\n",
      "Question 26 processed in 48.11736440658569 seconds\n",
      "CR score: 0.0, AR score: 0.2722590019290623\n",
      "Question 27 processed in 41.244086503982544 seconds\n",
      "CR score: 0.0, AR score: 0.1546707200534089\n",
      "Question 28 processed in 40.31100273132324 seconds\n",
      "CR score: 0.0, AR score: 0.19811836387542905\n",
      "Question 29 processed in 39.96621489524841 seconds\n",
      "CR score: 0.0, AR score: 0.16360361495095468\n",
      "Question 30 processed in 44.4485547542572 seconds\n",
      "CR score: 0.0, AR score: 0.13852531191497686\n",
      "Question 31 processed in 40.15643763542175 seconds\n",
      "CR score: 0.0, AR score: 0.18973336773032753\n",
      "Question 32 processed in 41.461143493652344 seconds\n",
      "CR score: 0.0, AR score: 0.1885178734583535\n",
      "Question 33 processed in 70.20338678359985 seconds\n",
      "CR score: 0.25, AR score: 0.2731312088578176\n",
      "Question 34 processed in 93.81462979316711 seconds\n",
      "CR score: 0.0, AR score: 0.18147714439453178\n",
      "Question 35 processed in 43.73594427108765 seconds\n",
      "CR score: 0.0, AR score: 0.4003043784099825\n",
      "Question 36 processed in 43.192673444747925 seconds\n",
      "CR score: 0.0, AR score: 0.16458630484926792\n",
      "Question 37 processed in 49.32719969749451 seconds\n",
      "CR score: 0.0, AR score: 0.1183977749637105\n",
      "Question 38 processed in 51.69660449028015 seconds\n",
      "CR score: 0.0, AR score: 0.3541342054560952\n",
      "Question 39 processed in 28.730868339538574 seconds\n",
      "CR score: 0.16666666666666666, AR score: 0.22306214798486165\n",
      "Question 40 processed in 84.96408152580261 seconds\n",
      "CR score: 0.0, AR score: 0.1441072151476602\n",
      "Question 41 processed in 38.2700891494751 seconds\n",
      "CR score: 0.0, AR score: 0.2799603948899865\n",
      "Question 42 processed in 41.202110290527344 seconds\n",
      "CR score: 0.0, AR score: 0.1610840612891218\n",
      "Question 43 processed in 46.95744466781616 seconds\n",
      "CR score: 0.0, AR score: 0.16633269032314493\n",
      "Question 44 processed in 38.28166913986206 seconds\n",
      "CR score: 0.0, AR score: 0.22310777593586595\n",
      "Question 45 processed in 50.703999757766724 seconds\n",
      "CR score: 0.0, AR score: 0.14877927614252603\n",
      "Question 46 processed in 49.04070568084717 seconds\n",
      "CR score: 0.0, AR score: 0.14872854676636574\n",
      "Question 47 processed in 60.3432731628418 seconds\n",
      "CR score: 0.29411764705882354, AR score: 0.05786454332796818\n",
      "Question 48 processed in 58.97440719604492 seconds\n",
      "CR score: 0.25, AR score: 0.14799880077978347\n",
      "Question 49 processed in 42.452754974365234 seconds\n",
      "CR score: 0.0, AR score: 0.1899743943685923\n",
      "Question 50 processed in 82.38273096084595 seconds\n",
      "CR score: 0.0, AR score: 0.13221282295878653\n",
      "Question 51 processed in 52.833810806274414 seconds\n",
      "CR score: 0.0, AR score: 0.2814019570231195\n",
      "Question 52 processed in 84.41874074935913 seconds\n",
      "CR score: 0.0, AR score: 0.27490633971399464\n",
      "Question 53 processed in 38.454840660095215 seconds\n",
      "CR score: 0.0, AR score: 0.11952928634416321\n",
      "Question 54 processed in 40.42577075958252 seconds\n",
      "CR score: 0.0, AR score: 0.07991500035709784\n",
      "Question 55 processed in 40.41924023628235 seconds\n",
      "CR score: 0.0, AR score: 0.12333363353605908\n",
      "Question 56 processed in 90.71261239051819 seconds\n",
      "CR score: 0.25, AR score: 0.18013342813782526\n",
      "Question 57 processed in 74.37865042686462 seconds\n",
      "CR score: 0.0, AR score: 0.2633549644923004\n",
      "Question 58 processed in 49.902390003204346 seconds\n",
      "CR score: 0.0, AR score: 0.11159761218095689\n",
      "Question 59 processed in 44.015228033065796 seconds\n",
      "CR score: 0.0, AR score: 0.23442653426040552\n",
      "Question 60 processed in 43.9283549785614 seconds\n",
      "CR score: 0.0, AR score: 0.15094198025225566\n",
      "Question 61 processed in 41.58194041252136 seconds\n",
      "CR score: 0.0, AR score: 0.24226174076936266\n",
      "Question 62 processed in 60.828880071640015 seconds\n",
      "CR score: 0.1, AR score: 0.3001296994918799\n",
      "Question 63 processed in 42.53463935852051 seconds\n",
      "CR score: 0.0, AR score: 0.30372317737351623\n",
      "Question 64 processed in 44.083979845047 seconds\n",
      "CR score: 0.0, AR score: 0.08592235385621172\n",
      "Question 65 processed in 55.484827280044556 seconds\n",
      "CR score: 0.0, AR score: 0.0943043272941667\n",
      "Question 66 processed in 39.82203006744385 seconds\n",
      "CR score: 0.0, AR score: 0.45255526188691314\n",
      "Question 67 processed in 40.38719391822815 seconds\n",
      "CR score: 0.0, AR score: 0.23706918777514696\n",
      "Question 68 processed in 49.80232262611389 seconds\n",
      "CR score: 0.0, AR score: 0.20484255006810312\n",
      "Question 69 processed in 50.6896071434021 seconds\n",
      "CR score: 0.0, AR score: 0.11003828308969943\n",
      "Question 70 processed in 38.639801025390625 seconds\n",
      "CR score: 0.0, AR score: 0.12520242565228126\n",
      "Question 71 processed in 40.50991153717041 seconds\n",
      "CR score: 0.0, AR score: 0.16919402417845888\n",
      "Question 72 processed in 52.0235550403595 seconds\n",
      "CR score: 0.0, AR score: 0.3319610854861541\n",
      "Question 73 processed in 39.75417160987854 seconds\n",
      "CR score: 0.0, AR score: 0.19111307208819037\n",
      "Question 74 processed in 50.71638202667236 seconds\n",
      "CR score: 0.0, AR score: 0.13252619345533903\n",
      "Question 75 processed in 45.17128586769104 seconds\n",
      "CR score: 0.0, AR score: 0.069576970920168\n",
      "Question 76 processed in 47.06167149543762 seconds\n",
      "CR score: 0.0, AR score: 0.1600440351387776\n",
      "Question 77 processed in 39.57164430618286 seconds\n",
      "CR score: 0.0, AR score: 0.2697950147967259\n",
      "Question 78 processed in 48.907724380493164 seconds\n",
      "CR score: 0.0, AR score: 0.35239367622266515\n",
      "Question 79 processed in 44.130411863327026 seconds\n",
      "CR score: 0.0, AR score: 0.15362195472882081\n",
      "Question 80 processed in 44.04084348678589 seconds\n",
      "CR score: 0.0, AR score: 0.12804742284736173\n",
      "Question 81 processed in 73.31487512588501 seconds\n",
      "CR score: 0.0, AR score: 0.13146382667034565\n",
      "Question 82 processed in 42.48261046409607 seconds\n",
      "CR score: 0.0, AR score: 0.37321655776092943\n",
      "Question 83 processed in 41.89797568321228 seconds\n",
      "CR score: 0.0, AR score: 0.09179146552738372\n",
      "Question 84 processed in 53.00740933418274 seconds\n",
      "CR score: 0.0, AR score: 0.22168233528881867\n",
      "Question 85 processed in 73.54086256027222 seconds\n",
      "CR score: 0.0, AR score: 0.11868590339468905\n",
      "Question 86 processed in 41.58259892463684 seconds\n",
      "CR score: 0.0, AR score: 0.2862750378493812\n",
      "Question 87 processed in 38.38626456260681 seconds\n",
      "CR score: 0.0, AR score: 0.3502551730600107\n",
      "Question 88 processed in 37.79018044471741 seconds\n",
      "CR score: 0.0, AR score: 0.1673376701934007\n",
      "Question 89 processed in 53.91099429130554 seconds\n",
      "CR score: 0.0, AR score: 0.2541903578645393\n",
      "Question 90 processed in 91.94831585884094 seconds\n",
      "CR score: 0.0, AR score: 0.22754697006710675\n",
      "Question 91 processed in 51.87658929824829 seconds\n",
      "CR score: 0.0, AR score: 0.3574990439405554\n",
      "Question 92 processed in 41.87106728553772 seconds\n",
      "CR score: 0.0, AR score: 0.0506241137138111\n",
      "Question 93 processed in 44.395668506622314 seconds\n",
      "CR score: 0.0, AR score: 0.2707569791538988\n",
      "Question 94 processed in 41.31806015968323 seconds\n",
      "CR score: 0.0, AR score: 0.26866842657560386\n",
      "Question 95 processed in 32.14234924316406 seconds\n",
      "CR score: 0.0, AR score: 0.30705398900293496\n",
      "Question 96 processed in 44.61174726486206 seconds\n",
      "CR score: 0.0, AR score: 0.24613323256266675\n",
      "Question 97 processed in 63.18295192718506 seconds\n",
      "CR score: 0.29411764705882354, AR score: 0.0857253942348507\n",
      "Question 98 processed in 50.418336153030396 seconds\n",
      "CR score: 0.0, AR score: 0.19241417805225103\n",
      "Question 99 processed in 46.01250338554382 seconds\n",
      "CR score: 0.0, AR score: 0.525266938247666\n"
     ]
    }
   ],
   "execution_count": 84
  },
  {
   "metadata": {},
   "cell_type": "code",
   "outputs": [],
   "execution_count": null,
   "source": [
    "from time import time\n",
    "\n",
    "crs = []\n",
    "ars = []\n",
    "\n",
    "for i, question in enumerate(questions):\n",
    "    \n",
    "    start = time()\n",
    "    retrieved_context = retriever.similarity_search(query=question, k =1)\n",
    "    ar = answer_relevancy(retrieved_context, question)\n",
    "    cr = context_relevancy(retrieved_context, question)\n",
    "    \n",
    "    crs.append(cr)\n",
    "    ars.append(ar)\n",
    "    \n",
    "    end = time()\n",
    "    print(f'Question {i} processed in {end - start} seconds')\n",
    "    print(f'CR score: {cr}, AR score: {ar}')\n"
   ],
   "id": "c4ad70d8d4f99063"
  },
  {
   "metadata": {
    "ExecuteTime": {
     "end_time": "2024-11-25T09:57:15.555427Z",
     "start_time": "2024-11-25T09:57:15.539149Z"
    }
   },
   "cell_type": "code",
   "source": [
    "ars, crs = np.array(ars), np.array(crs)\n",
    "\n",
    "print(f'ARs mean : {np.mean(ars)}')\n",
    "print(f'CRs mean : {np.mean(crs)}')"
   ],
   "id": "ed4b2c263865a732",
   "outputs": [
    {
     "name": "stdout",
     "output_type": "stream",
     "text": [
      "ARs mean : 0.20629166428308185\n",
      "CRs mean : 0.016049019607843138\n"
     ]
    }
   ],
   "execution_count": 85
  },
  {
   "metadata": {},
   "cell_type": "markdown",
   "source": "# CAG Evaluation on CRSB + SQUAD",
   "id": "72430ee04fac7a5d"
  }
 ],
 "metadata": {
  "kernelspec": {
   "display_name": "Python 3",
   "language": "python",
   "name": "python3"
  },
  "language_info": {
   "codemirror_mode": {
    "name": "ipython",
    "version": 2
   },
   "file_extension": ".py",
   "mimetype": "text/x-python",
   "name": "python",
   "nbconvert_exporter": "python",
   "pygments_lexer": "ipython2",
   "version": "2.7.6"
  }
 },
 "nbformat": 4,
 "nbformat_minor": 5
}
